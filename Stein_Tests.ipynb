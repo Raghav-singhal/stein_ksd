{
 "cells": [
  {
   "cell_type": "code",
   "execution_count": 1,
   "metadata": {},
   "outputs": [],
   "source": [
    "import autograd.numpy as np\n",
    "from autograd import grad\n",
    "\n",
    "from tqdm import tqdm\n",
    "\n",
    "import torch\n",
    "from torch.autograd import Variable, Function\n",
    "\n",
    "from scipy.stats import norm\n",
    "import matplotlib.pyplot as plt\n",
    "%matplotlib inline\n",
    "\n",
    "from gaussian_example import gaussian\n",
    "from stein_LSoperator import stein_LS\n",
    "\n",
    "from kernels import kernels\n",
    "\n",
    "import seaborn as sns\n",
    "sns.set()"
   ]
  },
  {
   "cell_type": "code",
   "execution_count": 2,
   "metadata": {},
   "outputs": [],
   "source": [
    "p_data = gaussian(dict(mu=np.array([1, 0., 0.]), sigma=np.eye(3)))\n",
    "q_var = gaussian(dict(mu=np.array([0., 0., 0.]), sigma=np.eye(3)))"
   ]
  },
  {
   "cell_type": "code",
   "execution_count": 3,
   "metadata": {},
   "outputs": [
    {
     "data": {
      "image/png": "[encoded data removed]",
      "text/plain": [
       "<matplotlib.figure.Figure at 0x1a13365fd0>"
      ]
     },
     "metadata": {},
     "output_type": "display_data"
    },
    {
     "data": {
      "text/plain": [
       "(10000, 3)"
      ]
     },
     "execution_count": 3,
     "metadata": {},
     "output_type": "execute_result"
    }
   ],
   "source": [
    "sam = p_data.sampler(10000)\n",
    "sns.distplot(sam[:,0], label='sample')\n",
    "\n",
    "mu = 1.0\n",
    "x = np.linspace(-8 + mu, 8 + mu,100)\n",
    "plt.plot(x, [p_data.density(x_, np.array([mu]), np.eye(1)) for x_ in x], label='exact')\n",
    "\n",
    "plt.legend(loc='upper right')\n",
    "plt.show()\n",
    "sam.shape"
   ]
  },
  {
   "cell_type": "code",
   "execution_count": 4,
   "metadata": {},
   "outputs": [],
   "source": [
    "def f(x):\n",
    "    return (1 + (x**2).sum())**(-1/2)"
   ]
  },
  {
   "cell_type": "code",
   "execution_count": 5,
   "metadata": {},
   "outputs": [],
   "source": [
    "test = stein_LS(dict(p=p_data, q=q_var))"
   ]
  },
  {
   "cell_type": "code",
   "execution_count": 6,
   "metadata": {},
   "outputs": [
    {
     "name": "stderr",
     "output_type": "stream",
     "text": [
      "100%|██████████| 32/32 [00:00<00:00, 1669.44it/s]\n",
      "100%|██████████| 64/64 [00:00<00:00, 889.32it/s]\n",
      "100%|██████████| 128/128 [00:00<00:00, 740.28it/s]\n",
      "100%|██████████| 256/256 [00:00<00:00, 919.89it/s]\n",
      "100%|██████████| 512/512 [00:00<00:00, 1747.67it/s]\n"
     ]
    }
   ],
   "source": [
    "n_samples = 2**(np.arange(5,10))\n",
    "stein_val = np.array([test.stein_Operator(n_, f) for n_ in n_samples])"
   ]
  },
  {
   "cell_type": "code",
   "execution_count": 7,
   "metadata": {},
   "outputs": [
    {
     "data": {
      "image/png": "[encoded data removed]",
      "text/plain": [
       "<matplotlib.figure.Figure at 0x1a17b463c8>"
      ]
     },
     "metadata": {},
     "output_type": "display_data"
    }
   ],
   "source": [
    "plt.plot(np.log2(n_samples), (stein_val))\n",
    "plt.xlabel('number of samples')\n",
    "plt.ylabel('stein discrepancy')\n",
    "plt.show()"
   ]
  },
  {
   "cell_type": "code",
   "execution_count": 8,
   "metadata": {},
   "outputs": [
    {
     "data": {
      "text/plain": [
       "array([ 1.00065064,  0.46124601,  0.56709415,  0.52255442,  0.43343925])"
      ]
     },
     "execution_count": 8,
     "metadata": {},
     "output_type": "execute_result"
    }
   ],
   "source": [
    "stein_val"
   ]
  },
  {
   "cell_type": "code",
   "execution_count": 9,
   "metadata": {},
   "outputs": [
    {
     "name": "stderr",
     "output_type": "stream",
     "text": [
      "100%|██████████| 16/16 [00:00<00:00, 793.14it/s]\n",
      "100%|██████████| 32/32 [00:00<00:00, 1190.07it/s]\n",
      "100%|██████████| 64/64 [00:00<00:00, 888.78it/s]\n",
      "100%|██████████| 128/128 [00:00<00:00, 693.02it/s]\n",
      "100%|██████████| 256/256 [00:00<00:00, 1073.60it/s]\n",
      "100%|██████████| 512/512 [00:00<00:00, 1407.82it/s]\n",
      "100%|██████████| 16/16 [00:00<00:00, 1310.28it/s]\n",
      "100%|██████████| 32/32 [00:00<00:00, 1020.03it/s]\n",
      "100%|██████████| 64/64 [00:00<00:00, 926.44it/s]\n",
      "100%|██████████| 128/128 [00:00<00:00, 897.97it/s]\n",
      "100%|██████████| 256/256 [00:00<00:00, 1151.47it/s]\n",
      "100%|██████████| 512/512 [00:00<00:00, 1338.69it/s]\n",
      "100%|██████████| 16/16 [00:00<00:00, 864.73it/s]\n",
      "100%|██████████| 32/32 [00:00<00:00, 1053.91it/s]\n",
      "100%|██████████| 64/64 [00:00<00:00, 1007.00it/s]\n",
      "100%|██████████| 128/128 [00:00<00:00, 842.70it/s]\n",
      "100%|██████████| 256/256 [00:00<00:00, 1165.72it/s]\n",
      "100%|██████████| 512/512 [00:00<00:00, 1460.26it/s]\n"
     ]
    },
    {
     "data": {
      "text/plain": [
       "array([ 0.46406073,  0.32449126,  0.41265522,  0.32869858,  0.3832595 ,\n",
       "        0.33143599])"
      ]
     },
     "execution_count": 9,
     "metadata": {},
     "output_type": "execute_result"
    }
   ],
   "source": [
    "\n",
    "p_data = gaussian(dict(mu=np.array([1, 0., 0.]), sigma=np.eye(3)))\n",
    "q_var = gaussian(dict(mu=np.array([0., 0., 0.]), sigma=np.eye(3)))\n",
    "test = stein_LS(dict(p=p_data, q=q_var))\n",
    "\n",
    "n_samples = 2**(np.arange(4,10))\n",
    "\n",
    "k = kernels('rbf')\n",
    "g = lambda x: k.imq(x, np.random.randn(3), c=2, beta=0.5)    \n",
    "g_1 = lambda x: k.imq(x, np.random.randn(3), c=2, beta=0.5)    \n",
    "g_2 = lambda x: k.imq(x, np.random.randn(3), c=2, beta=0.5)    \n",
    "\n",
    "stein_val = np.array([test.stein_Operator(n_, g) for n_ in n_samples])\n",
    "stein_val_1 = np.array([test.stein_Operator(n_, g_1) for n_ in n_samples])\n",
    "stein_val_2 = np.array([test.stein_Operator(n_, g_2) for n_ in n_samples])\n",
    "\n",
    "\n",
    "stein_sum = (stein_val + stein_val_1 + stein_val_2)/3\n",
    "stein_sum"
   ]
  },
  {
   "cell_type": "code",
   "execution_count": 10,
   "metadata": {},
   "outputs": [
    {
     "data": {
      "image/png": "[encoded data removed]",
      "text/plain": [
       "<matplotlib.figure.Figure at 0x1a1906dbe0>"
      ]
     },
     "metadata": {},
     "output_type": "display_data"
    }
   ],
   "source": [
    "plt.plot(np.log2(n_samples), (stein_val), label='sample 1')\n",
    "plt.plot(np.log2(n_samples), (stein_val_1), label='sample 2')\n",
    "plt.plot(np.log2(n_samples), (stein_val_2), label='sample 3')\n",
    "plt.plot(np.log2(n_samples), (stein_sum), label='average')\n",
    "plt.legend(loc='upper right')\n",
    "\n",
    "plt.xlabel('number of samples')\n",
    "plt.ylabel('stein discrepancy')\n",
    "plt.show()"
   ]
  },
  {
   "cell_type": "markdown",
   "metadata": {},
   "source": [
    "# Add kolmogorov - smirnov statistics test\n",
    "# add KL divergence test\n",
    "# compare to wasserstein metric"
   ]
  },
  {
   "cell_type": "code",
   "execution_count": 11,
   "metadata": {},
   "outputs": [],
   "source": [
    "# k = kernels('rbf')\n",
    "# k_2 = kernels('imq')\n",
    "\n",
    "# n = 1\n",
    "# k.grad_kx( y=np.ones(n) ,x = np.ones(n))\n",
    "\n",
    "# y = np.linspace(-10, 10, 500)\n",
    "# plt.plot(y, [k.grad_kx(y = np.zeros(n), x=x_) for x_ in y], label='rbf')\n",
    "# plt.plot(y, [k_2.grad_kx(y =np.zeros(n), x=x_) for x_ in y], label='imq')\n",
    "# plt.legend(loc='upper right')\n",
    "# plt.show()\n",
    "\n",
    "# plt.plot(y, [k.rbf(np.zeros(n), x_) for x_ in y], label='rbf')\n",
    "# plt.plot(y, [k.imq(np.zeros(n), x_,  beta=2) for x_ in y], label='imq')\n",
    "# # plt.plot(y, [k.polynomial(x_, x_,  degree=2) for x_ in y], label='imq')\n",
    "\n",
    "# plt.legend(loc='upper right')\n",
    "# plt.show()"
   ]
  },
  {
   "cell_type": "code",
   "execution_count": 12,
   "metadata": {},
   "outputs": [],
   "source": [
    "# f = lambda x,y: 0.5 * ((x-y)**2).sum()\n",
    "# f = lambda x,y: k.rbf(x,y)"
   ]
  },
  {
   "cell_type": "code",
   "execution_count": 13,
   "metadata": {},
   "outputs": [],
   "source": [
    "# def grad_fix_y(x_,y_):\n",
    "#     f_x = lambda x: f(x, y_)\n",
    "#     return grad(f_x)(x_)\n",
    "\n",
    "# grad_fix_y(np.ones(2)*4. , np.ones(2)*2.)"
   ]
  },
  {
   "cell_type": "code",
   "execution_count": 14,
   "metadata": {},
   "outputs": [],
   "source": [
    "# from autograd import jacobian\n",
    "# def grad_xy(x_, y_):\n",
    "#     f_y_gradx = lambda y: grad_fix_y(x_, y)\n",
    "#     return jacobian(f_y_gradx)(y_)\n",
    "\n",
    "# grad_xy(np.ones(2)*4. , np.ones(2)*2.)"
   ]
  },
  {
   "cell_type": "code",
   "execution_count": 15,
   "metadata": {},
   "outputs": [],
   "source": [
    "# k.grad_kxy(np.ones(2)*4. , np.ones(2)*2.)"
   ]
  },
  {
   "cell_type": "code",
   "execution_count": 16,
   "metadata": {},
   "outputs": [],
   "source": [
    "from ksd import ksd\n",
    "\n",
    "sigma1 = np.array([[1,0,0,0],\n",
    "                   [0,1,0,0],\n",
    "                   [0,0,3,0],\n",
    "                   [0,0,0,1]])\n",
    "mu1 = np.array([10. , 10. , 110. , 120.])\n",
    "\n",
    "sigma2 = np.array([[10,0,0,0],\n",
    "                   [0,20,0,0],\n",
    "                   [0,0,3,1],\n",
    "                   [0,0,1,1]])\n",
    "mu2 = np.array([10. , 10. , 110. , 120.])\n",
    "\n",
    "p_data = gaussian(dict(mu=mu1, sigma=sigma1))\n",
    "q_var = gaussian(dict(mu=mu2, sigma=sigma2))\n",
    "\n",
    "n_samples = 2**(np.arange(3,6))"
   ]
  },
  {
   "cell_type": "code",
   "execution_count": 17,
   "metadata": {},
   "outputs": [
    {
     "data": {
      "text/plain": [
       "array([ 1.13661939,  3.74517112,  2.17091056])"
      ]
     },
     "execution_count": 17,
     "metadata": {},
     "output_type": "execute_result"
    },
    {
     "data": {
      "image/png": "[encoded data removed]",
      "text/plain": [
       "<matplotlib.figure.Figure at 0x1a179e55f8>"
      ]
     },
     "metadata": {},
     "output_type": "display_data"
    }
   ],
   "source": [
    "\n",
    "stein_rbf = ksd(dict(name='rbf', p=p_data, q=q_var))\n",
    "stein_val_0 = np.array([stein_rbf.stein_Op(n_) for n_ in n_samples])\n",
    "plt.plot(np.log2(n_samples), (stein_val_0))\n",
    "\n",
    "stein_val_0"
   ]
  },
  {
   "cell_type": "code",
   "execution_count": 18,
   "metadata": {},
   "outputs": [
    {
     "data": {
      "text/plain": [
       "array([-81.8492683 , -24.92780947, -24.06602236])"
      ]
     },
     "execution_count": 18,
     "metadata": {},
     "output_type": "execute_result"
    },
    {
     "data": {
      "image/png": "[encoded data removed]",
      "text/plain": [
       "<matplotlib.figure.Figure at 0x1a1f0ad7f0>"
      ]
     },
     "metadata": {},
     "output_type": "display_data"
    }
   ],
   "source": [
    "\n",
    "stein_imq = ksd(dict(name='imq', p=p_data, q=q_var))\n",
    "stein_val_1 = np.array([stein_imq.stein_Op(n_) for n_ in n_samples])\n",
    "plt.plot(np.log2(n_samples), (stein_val_1))\n",
    "plt.show()\n",
    "\n",
    "stein_val_1\n",
    "\n",
    "# stein_poly = ksd(dict(name='polynomial', p=p_data, q=q_var))\n",
    "# stein_val_2 = np.array([stein_poly.stein_Op(n_) for n_ in n_samples])\n",
    "# plt.plot(np.log2(n_samples), (stein_val_2))\n",
    "\n",
    "# stein_val_2"
   ]
  },
  {
   "cell_type": "code",
   "execution_count": 20,
   "metadata": {},
   "outputs": [],
   "source": [
    "def mu(i):\n",
    "    return mu1 + np.array([1. + 1./(1. + i) , 0. , 1./(1 + i), 0.])\n",
    "\n",
    "\n",
    "# stein_imq = ksd(dict(name='imq', p=p_data, q=q_var))\n",
    "# stein_val_1 = np.array([stein_imq.stein_Op(n_) for n_ in n_samples])\n",
    "# plt.plot(np.log2(n_samples), (stein_val_1))\n",
    "start_ , end_ = 10, 30\n",
    "\n",
    "stein_val_i = []\n",
    "for i in tqdm(range(start_, end_)):\n",
    "    stein_ = ksd(dict(name='imq', p=p_data, q=gaussian(dict(mu=mu(i), sigma=sigma1))))\n",
    "    stein_val_i.append(stein_.stein_Op(64))\n",
    "    \n",
    "# plt.plot(np.arange(start_, end_), abs(np.array(stein_val_i)))\n",
    "plt.plot(np.arange(start_, end_), (stein_val_i))\n",
    "plt.show()"
   ]
  },
  {
   "cell_type": "markdown",
   "metadata": {},
   "source": [
    "# New kernel approach"
   ]
  },
  {
   "cell_type": "code",
   "execution_count": null,
   "metadata": {},
   "outputs": [
    {
     "name": "stderr",
     "output_type": "stream",
     "text": [
      "100%|██████████| 8/8 [00:00<00:00, 30.57it/s]\n",
      "100%|██████████| 16/16 [00:00<00:00, 37.96it/s]\n",
      "100%|██████████| 32/32 [00:00<00:00, 36.23it/s]\n",
      "100%|██████████| 64/64 [00:01<00:00, 40.28it/s]\n",
      "100%|██████████| 128/128 [00:03<00:00, 40.49it/s]\n",
      "100%|██████████| 256/256 [00:06<00:00, 40.30it/s]\n",
      "100%|██████████| 512/512 [00:12<00:00, 40.48it/s]\n",
      "100%|██████████| 1024/1024 [00:27<00:00, 36.88it/s]\n",
      "100%|██████████| 2048/2048 [00:56<00:00, 36.46it/s]\n",
      "  5%|▌         | 209/4096 [00:05<01:49, 35.66it/s]"
     ]
    }
   ],
   "source": [
    "from stein_RRS import stein_RRS\n",
    "\n",
    "sigma1 = np.array([[1,0,0,0],\n",
    "                   [0,1,0,0],\n",
    "                   [0,0,3,1],\n",
    "                   [0,0,1,1]])\n",
    "mu1 = np.array([10. , 10. , 110. , 120.])\n",
    "\n",
    "sigma2 = np.array([[1,0,0,0],\n",
    "                   [0,1,0,0],\n",
    "                   [0,0,3,0],\n",
    "                   [0,0,0,1]])\n",
    "mu2 = np.array([10. , 10. , 110. , 120.])\n",
    "\n",
    "p_data = gaussian(dict(mu=mu1, sigma=sigma1))\n",
    "q_var = gaussian(dict(mu=mu2, sigma=sigma2))\n",
    "\n",
    "n_samples = 2**(np.arange(3,14))\n",
    "\n",
    "stein_rbf = stein_RRS(dict(name='rbf', p=p_data, q=q_var))\n",
    "stein_val_0 = np.array([stein_rbf.stein_Op(n_) for n_ in n_samples])\n",
    "plt.plot(np.log2(n_samples), (stein_val_0))\n",
    "\n",
    "stein_val_0"
   ]
  },
  {
   "cell_type": "code",
   "execution_count": null,
   "metadata": {},
   "outputs": [],
   "source": [
    "def mu(i):\n",
    "    return mu1 + np.array([1. + 1./(1. + i) , 0. , 1./(1 + i), 0.])\n",
    "\n",
    "\n",
    "# stein_imq = ksd(dict(name='imq', p=p_data, q=q_var))\n",
    "# stein_val_1 = np.array([stein_imq.stein_Op(n_) for n_ in n_samples])\n",
    "# plt.plot(np.log2(n_samples), (stein_val_1))\n",
    "start_ , end_ = 10, 30\n",
    "\n",
    "stein_val_i = []\n",
    "stein_val_j = []\n",
    "\n",
    "\n",
    "for i in tqdm(range(start_, end_)):\n",
    "    stein_1 = ksd(dict(name='imq', p=p_data, q=gaussian(dict(mu=mu(i), sigma=sigma1)))).stein_Op(64)\n",
    "    stein_val_i.append(stein_)\n",
    "\n",
    "    stein_1 = stein_RRS(dict(name='imq', p=p_data, q=gaussian(dict(mu=mu(i), sigma=sigma1)))).stein_Op(64)\n",
    "    stein_val_i.append(stein_)\n",
    "\n",
    "    \n",
    "    \n",
    "# plt.plot(np.arange(start_, end_), abs(np.array(stein_val_i)))\n",
    "plt.plot(np.arange(start_, end_), (stein_val_i))\n",
    "plt.plot(np.arange(start_, end_), (stein_val_j))\n",
    "\n",
    "plt.show()"
   ]
  }
 ],
 "metadata": {
  "kernelspec": {
   "display_name": "Python 3",
   "language": "python",
   "name": "python3"
  },
  "language_info": {
   "codemirror_mode": {
    "name": "ipython",
    "version": 3
   },
   "file_extension": ".py",
   "mimetype": "text/x-python",
   "name": "python",
   "nbconvert_exporter": "python",
   "pygments_lexer": "ipython3",
   "version": "3.6.4"
  }
 },
 "nbformat": 4,
 "nbformat_minor": 2
}
