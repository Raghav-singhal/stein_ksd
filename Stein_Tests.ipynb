{
 "cells": [
  {
   "cell_type": "code",
   "execution_count": 1,
   "metadata": {},
   "outputs": [],
   "source": [
    "import autograd.numpy as np\n",
    "from autograd import grad\n",
    "\n",
    "from tqdm import tqdm\n",
    "\n",
    "import torch\n",
    "from torch.autograd import Variable, Function\n",
    "\n",
    "from scipy.stats import norm\n",
    "import matplotlib.pyplot as plt\n",
    "%matplotlib inline\n",
    "\n",
    "from gaussian_example import gaussian\n",
    "from stein_LSoperator import stein_LS\n",
    "\n",
    "from kernels import kernels\n",
    "\n",
    "import seaborn as sns\n",
    "sns.set()"
   ]
  },
  {
   "cell_type": "code",
   "execution_count": 2,
   "metadata": {},
   "outputs": [],
   "source": [
    "p_data = gaussian(dict(mu=np.array([1, 0., 0.]), sigma=np.eye(3)))\n",
    "q_var = gaussian(dict(mu=np.array([0., 0., 0.]), sigma=np.eye(3)))"
   ]
  },
  {
   "cell_type": "code",
   "execution_count": 3,
   "metadata": {},
   "outputs": [
    {
     "data": {
      "image/png": "[encoded data removed]",
      "text/plain": [
       "<matplotlib.figure.Figure at 0x1a1e164f98>"
      ]
     },
     "metadata": {},
     "output_type": "display_data"
    },
    {
     "data": {
      "text/plain": [
       "(10000, 3)"
      ]
     },
     "execution_count": 3,
     "metadata": {},
     "output_type": "execute_result"
    }
   ],
   "source": [
    "sam = p_data.sampler(10000)\n",
    "sns.distplot(sam[:,0], label='sample')\n",
    "\n",
    "mu = 1.0\n",
    "x = np.linspace(-8 + mu, 8 + mu,100)\n",
    "plt.plot(x, [p_data.density(x_, np.array([mu]), np.eye(1)) for x_ in x], label='exact')\n",
    "\n",
    "plt.legend(loc='upper right')\n",
    "plt.show()\n",
    "sam.shape"
   ]
  },
  {
   "cell_type": "code",
   "execution_count": 4,
   "metadata": {},
   "outputs": [],
   "source": [
    "def f(x):\n",
    "    return (1 + (x**2).sum())**(-1/2)"
   ]
  },
  {
   "cell_type": "code",
   "execution_count": 5,
   "metadata": {},
   "outputs": [],
   "source": [
    "test = stein_LS(dict(p=p_data, q=q_var))"
   ]
  },
  {
   "cell_type": "code",
   "execution_count": 6,
   "metadata": {},
   "outputs": [],
   "source": [
    "n_samples = 2**(np.arange(5,10))\n",
    "stein_val = np.array([test.stein_Operator(n_, f) for n_ in n_samples])"
   ]
  },
  {
   "cell_type": "code",
   "execution_count": 7,
   "metadata": {},
   "outputs": [
    {
     "data": {
      "image/png": "[encoded data removed]",
      "text/plain": [
       "<matplotlib.figure.Figure at 0x1a1e164898>"
      ]
     },
     "metadata": {},
     "output_type": "display_data"
    }
   ],
   "source": [
    "plt.plot(np.log2(n_samples), (stein_val))\n",
    "plt.xlabel('number of samples')\n",
    "plt.ylabel('stein discrepancy')\n",
    "plt.show()"
   ]
  },
  {
   "cell_type": "code",
   "execution_count": 8,
   "metadata": {},
   "outputs": [
    {
     "data": {
      "text/plain": [
       "array([ 0.69765107,  0.93082818,  0.69802107,  0.45456176,  0.45979795])"
      ]
     },
     "execution_count": 8,
     "metadata": {},
     "output_type": "execute_result"
    }
   ],
   "source": [
    "stein_val"
   ]
  },
  {
   "cell_type": "code",
   "execution_count": 9,
   "metadata": {},
   "outputs": [],
   "source": [
    "# g = lambda x: k.imq(x, np.random.randn(3), c=2, beta=0.5)    \n",
    "# g_1 = lambda x: k.imq(x, np.random.randn(3), c=2, beta=0.5)    \n",
    "# g_2 = lambda x: k.imq(x, np.random.randn(3), c=2, beta=0.5)    \n",
    "\n",
    "# p_data = gaussian(dict(mu=np.array([1, 0., 0.]), sigma=np.eye(3)))\n",
    "# q_var = gaussian(dict(mu=np.array([0., 0., 0.]), sigma=np.eye(3)))\n",
    "# test = stein_LS(dict(p=p_data, q=q_var))\n",
    "\n",
    "\n",
    "# n_samples = 2**(np.arange(7,13))\n",
    "\n",
    "# stein_val = np.array([test.stein_Operator(n_, g) for n_ in n_samples])\n",
    "# stein_val_1 = np.array([test.stein_Operator(n_, g_1) for n_ in n_samples])\n",
    "# stein_val_2 = np.array([test.stein_Operator(n_, g_2) for n_ in n_samples])\n",
    "\n",
    "\n",
    "# stein_sum = (stein_val + stein_val_1 + stein_val_2)/3\n",
    "# stein_sum"
   ]
  },
  {
   "cell_type": "code",
   "execution_count": 10,
   "metadata": {},
   "outputs": [],
   "source": [
    "# plt.plot(np.log2(n_samples), (stein_val), label='sample 1')\n",
    "# plt.plot(np.log2(n_samples), (stein_val_1), label='sample 2')\n",
    "# plt.plot(np.log2(n_samples), (stein_val_2), label='sample 3')\n",
    "# plt.plot(np.log2(n_samples), (stein_sum), label='average')\n",
    "# plt.legend(loc='upper right')\n",
    "\n",
    "# plt.xlabel('number of samples')\n",
    "# plt.ylabel('stein discrepancy')\n",
    "# plt.show()"
   ]
  },
  {
   "cell_type": "markdown",
   "metadata": {},
   "source": [
    "# Add kolmogorov - smirnov statistics test\n",
    "# add KL divergence test\n",
    "# compare to wasserstein metric"
   ]
  },
  {
   "cell_type": "code",
   "execution_count": 11,
   "metadata": {},
   "outputs": [],
   "source": [
    "# k = kernels('rbf')\n",
    "# k_2 = kernels('imq')\n",
    "\n",
    "\n",
    "# n = 1\n",
    "# k.grad_kx( y=np.ones(n) ,x = np.ones(n))\n",
    "\n",
    "# y = np.linspace(-10, 10, 500)\n",
    "# plt.plot(y, [k.grad_kx(y = np.zeros(n), x=x_) for x_ in y], label='rbf')\n",
    "# plt.plot(y, [k_2.grad_kx(y =np.zeros(n), x=x_) for x_ in y], label='imq')\n",
    "# plt.legend(loc='upper right')\n",
    "# plt.show()\n",
    "\n",
    "# plt.plot(y, [k.rbf(np.zeros(n), x_) for x_ in y], label='rbf')\n",
    "# plt.plot(y, [k.imq(np.zeros(n), x_,  beta=2) for x_ in y], label='imq')\n",
    "# # plt.plot(y, [k.polynomial(x_, x_,  degree=2) for x_ in y], label='imq')\n",
    "\n",
    "# plt.legend(loc='upper right')\n",
    "# plt.show()"
   ]
  },
  {
   "cell_type": "code",
   "execution_count": 12,
   "metadata": {},
   "outputs": [],
   "source": [
    "# f = lambda x,y: 0.5 * ((x-y)**2).sum()\n",
    "# f = lambda x,y: k.rbf(x,y)"
   ]
  },
  {
   "cell_type": "code",
   "execution_count": 13,
   "metadata": {},
   "outputs": [],
   "source": [
    "# def grad_fix_y(x_,y_):\n",
    "#     f_x = lambda x: f(x, y_)\n",
    "#     return grad(f_x)(x_)\n",
    "\n",
    "# grad_fix_y(np.ones(2)*4. , np.ones(2)*2.)"
   ]
  },
  {
   "cell_type": "code",
   "execution_count": 14,
   "metadata": {},
   "outputs": [],
   "source": [
    "# from autograd import jacobian\n",
    "# def grad_xy(x_, y_):\n",
    "#     f_y_gradx = lambda y: grad_fix_y(x_, y)\n",
    "#     return jacobian(f_y_gradx)(y_)\n",
    "\n",
    "# grad_xy(np.ones(2)*4. , np.ones(2)*2.)"
   ]
  },
  {
   "cell_type": "code",
   "execution_count": 15,
   "metadata": {},
   "outputs": [],
   "source": [
    "# k.grad_kxy(np.ones(2)*4. , np.ones(2)*2.)"
   ]
  },
  {
   "cell_type": "code",
   "execution_count": 28,
   "metadata": {},
   "outputs": [],
   "source": [
    "from ksd import ksd\n",
    "\n",
    "sigma1 = np.array([[1,0,0],\n",
    "                   [0,2,0],\n",
    "                   [0,0,3]])\n",
    "mu1 = np.array([10. , 10. , 0. ])\n",
    "\n",
    "sigma2 = np.array([[1,0,1],\n",
    "                   [0,2,0],\n",
    "                   [1,0,3]])\n",
    "mu2 = np.array([0. , 10. , 10. ])\n",
    "\n",
    "p_data = gaussian(dict(mu=mu1, sigma=sigma1))\n",
    "q_var = gaussian(dict(mu=mu2, sigma=sigma2))\n",
    "\n",
    "n_samples = 2**(np.arange(1,10))"
   ]
  },
  {
   "cell_type": "code",
   "execution_count": 29,
   "metadata": {},
   "outputs": [
    {
     "name": "stderr",
     "output_type": "stream",
     "text": [
      "100%|██████████| 2/2 [00:00<00:00, 125.06it/s]\n",
      "100%|██████████| 4/4 [00:00<00:00, 65.31it/s]\n",
      "100%|██████████| 8/8 [00:00<00:00, 26.68it/s]\n",
      "100%|██████████| 16/16 [00:00<00:00, 19.64it/s]\n",
      "100%|██████████| 32/32 [00:03<00:00, 10.10it/s]\n",
      "100%|██████████| 64/64 [00:11<00:00,  5.82it/s]\n"
     ]
    },
    {
     "data": {
      "text/plain": [
       "array([ 34.86700439,  15.53772974,  12.3198574 ,  19.03503727,\n",
       "        10.67980938,  10.38907801])"
      ]
     },
     "execution_count": 29,
     "metadata": {},
     "output_type": "execute_result"
    },
    {
     "data": {
      "image/png": "[encoded data removed]",
      "text/plain": [
       "<matplotlib.figure.Figure at 0x1a22b0fba8>"
      ]
     },
     "metadata": {},
     "output_type": "display_data"
    }
   ],
   "source": [
    "\n",
    "stein_rbf = ksd(dict(name='rbf', p=p_data, q=q_var))\n",
    "stein_val = np.array([stein_rbf.stein_Op(n_) for n_ in n_samples])\n",
    "plt.plot(np.log2(n_samples), (stein_val))\n",
    "stein_val"
   ]
  },
  {
   "cell_type": "code",
   "execution_count": 30,
   "metadata": {},
   "outputs": [
    {
     "name": "stderr",
     "output_type": "stream",
     "text": [
      "100%|██████████| 2/2 [00:00<00:00, 91.79it/s]\n",
      "100%|██████████| 4/4 [00:00<00:00, 50.17it/s]\n",
      "100%|██████████| 8/8 [00:00<00:00, 31.93it/s]\n",
      "100%|██████████| 16/16 [00:00<00:00, 22.35it/s]\n",
      "100%|██████████| 32/32 [00:02<00:00, 10.80it/s]\n",
      "100%|██████████| 64/64 [00:12<00:00,  5.16it/s]\n"
     ]
    },
    {
     "data": {
      "text/plain": [
       "array([ 336.03036944,  372.54322469,  315.9533563 ,  334.65486908,\n",
       "        348.44707709,  357.25262802])"
      ]
     },
     "execution_count": 30,
     "metadata": {},
     "output_type": "execute_result"
    },
    {
     "data": {
      "image/png": "[encoded data removed]",
      "text/plain": [
       "<matplotlib.figure.Figure at 0x1a217f1c18>"
      ]
     },
     "metadata": {},
     "output_type": "display_data"
    }
   ],
   "source": [
    "\n",
    "stein_imq = ksd(dict(name='imq', p=p_data, q=q_var))\n",
    "stein_val_1 = np.array([stein_imq.stein_Op(n_) for n_ in n_samples])\n",
    "plt.plot(np.log2(n_samples), (stein_val_1))\n",
    "\n",
    "stein_val_1"
   ]
  },
  {
   "cell_type": "code",
   "execution_count": 31,
   "metadata": {},
   "outputs": [
    {
     "name": "stderr",
     "output_type": "stream",
     "text": [
      "100%|██████████| 2/2 [00:00<00:00, 210.39it/s]\n",
      "100%|██████████| 4/4 [00:00<00:00, 136.83it/s]\n",
      "100%|██████████| 8/8 [00:00<00:00, 69.99it/s]\n",
      "100%|██████████| 16/16 [00:00<00:00, 33.58it/s]\n",
      "100%|██████████| 32/32 [00:01<00:00, 16.92it/s]\n",
      "100%|██████████| 64/64 [00:11<00:00,  5.65it/s]\n"
     ]
    },
    {
     "data": {
      "text/plain": [
       "array([ 4281446.73429342,  4602974.69017565,  4545813.47140411,\n",
       "        4524149.57179513,  4546047.61872277,  4270631.55651084])"
      ]
     },
     "execution_count": 31,
     "metadata": {},
     "output_type": "execute_result"
    },
    {
     "data": {
      "image/png": "[encoded data removed]",
      "text/plain": [
       "<matplotlib.figure.Figure at 0x1a22b3b160>"
      ]
     },
     "metadata": {},
     "output_type": "display_data"
    }
   ],
   "source": [
    "\n",
    "stein_poly = ksd(dict(name='polynomial', p=p_data, q=q_var))\n",
    "stein_val_2 = np.array([stein_poly.stein_Op(n_) for n_ in n_samples])\n",
    "plt.plot(np.log2(n_samples), (stein_val_2))\n",
    "\n",
    "stein_val_2"
   ]
  },
  {
   "cell_type": "code",
   "execution_count": null,
   "metadata": {},
   "outputs": [],
   "source": []
  },
  {
   "cell_type": "code",
   "execution_count": null,
   "metadata": {},
   "outputs": [],
   "source": []
  }
 ],
 "metadata": {
  "kernelspec": {
   "display_name": "Python 3",
   "language": "python",
   "name": "python3"
  },
  "language_info": {
   "codemirror_mode": {
    "name": "ipython",
    "version": 3
   },
   "file_extension": ".py",
   "mimetype": "text/x-python",
   "name": "python",
   "nbconvert_exporter": "python",
   "pygments_lexer": "ipython3",
   "version": "3.6.4"
  }
 },
 "nbformat": 4,
 "nbformat_minor": 2
}
